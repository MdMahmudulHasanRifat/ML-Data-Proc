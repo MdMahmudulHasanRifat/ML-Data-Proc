{
  "nbformat": 4,
  "nbformat_minor": 0,
  "metadata": {
    "colab": {
      "provenance": [],
      "authorship_tag": "ABX9TyNA9KbmDYZe1sRkRxf+/Zx0",
      "include_colab_link": true
    },
    "kernelspec": {
      "name": "python3",
      "display_name": "Python 3"
    },
    "language_info": {
      "name": "python"
    }
  },
  "cells": [
    {
      "cell_type": "markdown",
      "metadata": {
        "id": "view-in-github",
        "colab_type": "text"
      },
      "source": [
        "<a href=\"https://colab.research.google.com/github/MdMahmudulHasanRifat/ML-Data-Proc/blob/main/LAB_Task.ipynb\" target=\"_parent\"><img src=\"https://colab.research.google.com/assets/colab-badge.svg\" alt=\"Open In Colab\"/></a>"
      ]
    },
    {
      "cell_type": "code",
      "execution_count": 1,
      "metadata": {
        "colab": {
          "base_uri": "https://localhost:8080/"
        },
        "id": "vVkDVPuQjvsh",
        "outputId": "40e7160a-754e-49d2-acda-59f95c4915a0"
      },
      "outputs": [
        {
          "output_type": "stream",
          "name": "stdout",
          "text": [
            "Accuracy (From Scratch): 1.0\n",
            "Accuracy (Scikit-learn): 1.0\n"
          ]
        }
      ],
      "source": [
        "import numpy as np\n",
        "from sklearn.datasets import load_iris\n",
        "from sklearn.model_selection import train_test_split\n",
        "from sklearn.linear_model import LogisticRegression\n",
        "from sklearn.preprocessing import StandardScaler\n",
        "from sklearn.metrics import accuracy_score\n",
        "\n",
        "iris = load_iris()\n",
        "X = iris.data[:, [0, 3]]\n",
        "y = (iris.target == 0).astype(int)\n",
        "\n",
        "X_train, X_test, y_train, y_test = train_test_split(X, y, test_size=0.3, random_state=42)\n",
        "\n",
        "scaler = StandardScaler()\n",
        "X_train = scaler.fit_transform(X_train)\n",
        "X_test = scaler.transform(X_test)\n",
        "\n",
        "X_train_b = np.c_[np.ones((X_train.shape[0], 1)), X_train]\n",
        "X_test_b = np.c_[np.ones((X_test.shape[0], 1)), X_test]\n",
        "\n",
        "def sigmoid(z):\n",
        "    return 1 / (1 + np.exp(-z))\n",
        "\n",
        "def compute_cost(X, y, theta):\n",
        "    m = len(y)\n",
        "    h = sigmoid(X @ theta)\n",
        "    return (-1 / m) * (y @ np.log(h) + (1 - y) @ np.log(1 - h))\n",
        "\n",
        "def gradient_descent(X, y, theta, alpha, epochs):\n",
        "    m = len(y)\n",
        "    for _ in range(epochs):\n",
        "        h = sigmoid(X @ theta)\n",
        "        gradient = (1 / m) * (X.T @ (h - y))\n",
        "        theta -= alpha * gradient\n",
        "    return theta\n",
        "\n",
        "theta = np.zeros(X_train_b.shape[1])\n",
        "theta = gradient_descent(X_train_b, y_train, theta, alpha=0.1, epochs=1000)\n",
        "\n",
        "def predict(X, theta):\n",
        "    return sigmoid(X @ theta) >= 0.5\n",
        "\n",
        "y_pred_scratch = predict(X_test_b, theta).astype(int)\n",
        "accuracy_scratch = accuracy_score(y_test, y_pred_scratch)\n",
        "print(\"Accuracy (From Scratch):\", accuracy_scratch)\n",
        "\n",
        "model = LogisticRegression()\n",
        "model.fit(X_train, y_train)\n",
        "y_pred_sklearn = model.predict(X_test)\n",
        "accuracy_sklearn = accuracy_score(y_test, y_pred_sklearn)\n",
        "print(\"Accuracy (Scikit-learn):\", accuracy_sklearn)"
      ]
    }
  ]
}