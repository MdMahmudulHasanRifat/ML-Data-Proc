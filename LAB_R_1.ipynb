{
  "nbformat": 4,
  "nbformat_minor": 0,
  "metadata": {
    "colab": {
      "provenance": [],
      "authorship_tag": "ABX9TyOEZLVKLxbVrKJIafT5q0RJ",
      "include_colab_link": true
    },
    "kernelspec": {
      "name": "python3",
      "display_name": "Python 3"
    },
    "language_info": {
      "name": "python"
    }
  },
  "cells": [
    {
      "cell_type": "markdown",
      "metadata": {
        "id": "view-in-github",
        "colab_type": "text"
      },
      "source": [
        "<a href=\"https://colab.research.google.com/github/MdMahmudulHasanRifat/ML-Data-Proc/blob/main/LAB_R_1.ipynb\" target=\"_parent\"><img src=\"https://colab.research.google.com/assets/colab-badge.svg\" alt=\"Open In Colab\"/></a>"
      ]
    },
    {
      "cell_type": "markdown",
      "source": [
        "# Diabetes Prediction using Linear Regression\n",
        "\n",
        "## 📘 Overview\n",
        "This project predicts whether a patient has diabetes using a Linear Regression model. Although Linear Regression is typically used for continuous outputs, we apply rounding to get binary predictions (0 or 1), enabling classification.\n",
        "\n",
        "## 📁 Dataset\n",
        "- **File Name**: `diabetes.csv`\n",
        "- **Source**: [PIMA Indians Diabetes Dataset](https://www.kaggle.com/datasets/uciml/pima-indians-diabetes-database)\n",
        "- **Used from GitHub**:  \n",
        "  [Raw CSV Link](https://raw.githubusercontent.com/MdMahmudulHasanRifat/ML-Data-Proc/refs/heads/main/diabetes.csv)\n",
        "\n",
        "## 🧹 Preprocessing Steps\n",
        "1. Replaced zero values in the following columns with the **column mean**:\n",
        "   - Glucose\n",
        "   - BloodPressure\n",
        "   - SkinThickness\n",
        "   - Insulin\n",
        "   - BMI\n",
        "2. Set the **first row's glucose value** to the **maximum glucose** in the column.\n",
        "3. Found the **minimum age**, and replaced glucose values of those records with the **minimum glucose**.\n",
        "\n",
        "## 🧠 Modeling\n",
        "- **Model Used**: Linear Regression (`sklearn.linear_model.LinearRegression`)\n",
        "- **Output**: Continuous predictions were rounded to `0` or `1` for classification.\n",
        "\n",
        "## 🧪 Evaluation Metrics\n",
        "| Metric     | Result (Example) |\n",
        "|------------|------------------|\n",
        "| Accuracy   | 0.77             |\n",
        "| Precision  | 0.73             |\n",
        "| Recall     | 0.56             |\n",
        "| F1 Score   | 0.63             |\n",
        "\n",
        "- **Confusion Matrix** is also plotted using seaborn.\n",
        "\n",
        "## ▶️ How to Run\n",
        "1. Open the notebook in Google Colab or Jupyter.\n",
        "2. Make sure `pandas`, `numpy`, `matplotlib`, `seaborn`, and `scikit-learn` are installed.\n",
        "3. No need to upload CSV manually — the dataset is loaded directly from GitHub.\n",
        "4. Run all cells to see predictions and evaluation metrics.\n",
        "\n",
        "## 📌 Notes\n",
        "- Linear Regression is not ideal for binary classification, but this was used as per lab instructions.\n",
        "- For improved results, models like **Logistic Regression** or **Random Forest** are recommended.\n",
        "\n",
        "---\n",
        "\n",
        "✅ **Author**: Md Mahmudul Hasan Rifat\n",
        "🆔 **Student ID**: 222002048  \n",
        "📘 **Course**: CSE312 - Section 222_D3  \n",
        "📝 **Lab Report 01**"
      ],
      "metadata": {
        "id": "_xXqxbA3Tzqp"
      }
    },
    {
      "cell_type": "code",
      "execution_count": 2,
      "metadata": {
        "colab": {
          "base_uri": "https://localhost:8080/",
          "height": 611
        },
        "id": "DcB8SEdtQQOO",
        "outputId": "58e337cc-d08e-4fc5-e406-4713b8bbd3a1"
      },
      "outputs": [
        {
          "output_type": "stream",
          "name": "stdout",
          "text": [
            "Accuracy: 0.7734375\n",
            "Precision: 0.7281553398058253\n",
            "Recall: 0.5597014925373134\n",
            "F1 Score: 0.6329113924050633\n",
            "\n",
            "Confusion Matrix:\n",
            " [[444  56]\n",
            " [118 150]]\n"
          ]
        },
        {
          "output_type": "display_data",
          "data": {
            "text/plain": [
              "<Figure size 640x480 with 2 Axes>"
            ],
            "image/png": "[encoded data removed]"
          },
          "metadata": {}
        }
      ],
      "source": [
        "import pandas as pd\n",
        "import numpy as np\n",
        "import matplotlib.pyplot as plt\n",
        "import seaborn as sns\n",
        "\n",
        "from sklearn.linear_model import LinearRegression\n",
        "from sklearn.metrics import confusion_matrix, accuracy_score, precision_score, recall_score, f1_score\n",
        "\n",
        "\n",
        "df = pd.read_csv('https://raw.githubusercontent.com/MdMahmudulHasanRifat/ML-Data-Proc/refs/heads/main/diabetes.csv')\n",
        "\n",
        "\n",
        "cols_with_zeros = ['Glucose', 'BloodPressure', 'SkinThickness', 'Insulin', 'BMI']\n",
        "for col in cols_with_zeros:\n",
        "    df[col] = df[col].replace(0, np.nan)\n",
        "    df[col] = df[col].fillna(df[col].mean())\n",
        "\n",
        "\n",
        "df.loc[0, 'Glucose'] = df['Glucose'].max()\n",
        "\n",
        "\n",
        "min_age = df['Age'].min()\n",
        "min_glucose = df['Glucose'].min()\n",
        "df.loc[df['Age'] == min_age, 'Glucose'] = min_glucose\n",
        "\n",
        "\n",
        "X = df.drop('Outcome', axis=1)\n",
        "y = df['Outcome']\n",
        "\n",
        "\n",
        "model = LinearRegression()\n",
        "model.fit(X, y)\n",
        "\n",
        "predictions = model.predict(X)\n",
        "rounded_preds = np.round(predictions)\n",
        "\n",
        "\n",
        "acc = accuracy_score(y, rounded_preds)\n",
        "prec = precision_score(y, rounded_preds)\n",
        "rec = recall_score(y, rounded_preds)\n",
        "f1 = f1_score(y, rounded_preds)\n",
        "cm = confusion_matrix(y, rounded_preds)\n",
        "\n",
        "\n",
        "print(\"Accuracy:\", acc)\n",
        "print(\"Precision:\", prec)\n",
        "print(\"Recall:\", rec)\n",
        "print(\"F1 Score:\", f1)\n",
        "print(\"\\nConfusion Matrix:\\n\", cm)\n",
        "\n",
        "\n",
        "sns.heatmap(cm, annot=True, fmt='d', cmap='Blues')\n",
        "plt.title('Confusion Matrix')\n",
        "plt.xlabel('Predicted')\n",
        "plt.ylabel('Actual')\n",
        "plt.show()"
      ]
    }
  ]
}