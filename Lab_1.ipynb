{
  "nbformat": 4,
  "nbformat_minor": 0,
  "metadata": {
    "colab": {
      "provenance": [],
      "authorship_tag": "ABX9TyNZzgBW8kOVxiiVofCe3Vy5",
      "include_colab_link": true
    },
    "kernelspec": {
      "name": "python3",
      "display_name": "Python 3"
    },
    "language_info": {
      "name": "python"
    }
  },
  "cells": [
    {
      "cell_type": "markdown",
      "metadata": {
        "id": "view-in-github",
        "colab_type": "text"
      },
      "source": [
        "<a href=\"https://colab.research.google.com/github/MdMahmudulHasanRifat/ML-Data-Proc/blob/main/Lab_1.ipynb\" target=\"_parent\"><img src=\"https://colab.research.google.com/assets/colab-badge.svg\" alt=\"Open In Colab\"/></a>"
      ]
    },
    {
      "cell_type": "code",
      "execution_count": 11,
      "metadata": {
        "colab": {
          "base_uri": "https://localhost:8080/"
        },
        "id": "PzE-OmG_nIlu",
        "outputId": "cdb16cd1-97f4-43ad-896b-6e10b2ea5ed6"
      },
      "outputs": [
        {
          "output_type": "stream",
          "name": "stdout",
          "text": [
            "<class 'pandas.core.frame.DataFrame'>\n",
            "RangeIndex: 418 entries, 0 to 417\n",
            "Data columns (total 6 columns):\n",
            " #   Column  Non-Null Count  Dtype  \n",
            "---  ------  --------------  -----  \n",
            " 0   Pclass  418 non-null    int64  \n",
            " 1   Sex     418 non-null    object \n",
            " 2   Age     332 non-null    float64\n",
            " 3   SibSp   418 non-null    int64  \n",
            " 4   Parch   418 non-null    int64  \n",
            " 5   Fare    417 non-null    float64\n",
            "dtypes: float64(2), int64(3), object(1)\n",
            "memory usage: 19.7+ KB\n",
            "   Pclass     Sex   Age  SibSp  Parch     Fare\n",
            "0       3    male  34.5      0      0   7.8292\n",
            "1       3  female  47.0      1      0   7.0000\n",
            "2       2    male  62.0      0      0   9.6875\n",
            "3       3    male  27.0      0      0   8.6625\n",
            "4       3  female  22.0      1      1  12.2875\n"
          ]
        }
      ],
      "source": [
        "import pandas as pd\n",
        "import numpy as np\n",
        "url = \"https://raw.githubusercontent.com/dsindy/kaggle-titanic/master/data/test.csv\"\n",
        "df = pd.read_csv(url)\n",
        "# print(df.head())\n",
        "df.drop(\"Name\", axis=1, inplace=True)\n",
        "df.drop(\"Ticket\", axis=1, inplace=True)\n",
        "df.drop(\"PassengerId\", axis=1, inplace=True)\n",
        "df.drop(\"Cabin\", axis=1, inplace=True)\n",
        "df.drop(\"Embarked\", axis=1, inplace=True)\n",
        "df.info()\n",
        "print(df.head())"
      ]
    }
  ]
}